{
 "cells": [
  {
   "cell_type": "markdown",
   "id": "013a1eab",
   "metadata": {},
   "source": [
    "# Tests - Méthode Cross Ratio"
   ]
  },
  {
   "cell_type": "markdown",
   "id": "c153b981",
   "metadata": {},
   "source": [
    "Lien de la théorie :\n",
    "https://www.researchgate.net/post/Is-it-possible-to-find-distance-of-objects-in-an-image-using-AI\n",
    "\n",
    "Liens annexes pour comprendre :\n",
    "https://fr.wikipedia.org/wiki/Birapport"
   ]
  },
  {
   "cell_type": "code",
   "execution_count": 3,
   "id": "27656de6",
   "metadata": {},
   "outputs": [
    {
     "name": "stdout",
     "output_type": "stream",
     "text": [
      "11.70602841558194\n"
     ]
    }
   ],
   "source": [
    "#utilisation de photoshop pour calcul des distances avec outil règles\n",
    "\n",
    "from math import *\n",
    "\n",
    "#données feu calédonie\n",
    "AD=sqrt(744**2+1794**2)\n",
    "CD=sqrt(108**2+288**2)\n",
    "BD=sqrt(354**2+838**2)\n",
    "CB=2.5\n",
    "\n",
    "def distance_pointD_CB(AD,CD,BD,dist):\n",
    "    r_pixel=(AD-CD)*BD/((BD-CD)*AD)\n",
    "    CA=(r_pixel/(r_pixel-1))*dist\n",
    "    return CA\n",
    "\n",
    "print(distance_pointD_CB(AD,CD,BD,CB))\n"
   ]
  },
  {
   "cell_type": "code",
   "execution_count": 14,
   "id": "cebebe80",
   "metadata": {},
   "outputs": [
    {
     "name": "stdout",
     "output_type": "stream",
     "text": [
      "('CA calculé', 87.87457022247162, 'CA réel', 48)\n",
      "('CA calculé', 73.22880851872634, 'CA réel', 48)\n",
      "('CA calculé', 34.895460189597614, 'CA réel', 48)\n",
      "('CA calculé', 127.6316918815917, 'CA réel', 150)\n"
     ]
    }
   ],
   "source": [
    "# Image Cross_Ratio_2\n",
    "\n",
    "#######  donnée rue sergent blandan ## exemple bien linéaire\n",
    "\n",
    "AD=sqrt(1800**2+1000**2)\n",
    "CD=sqrt(64**2+36**2)\n",
    "BD=sqrt(352**2+632**2)\n",
    "\n",
    "#données issues de google eart avec outil règles\n",
    "\n",
    "### distance connue : distance à la poubelle | distance recherchée : distance au passage piéton\n",
    "AB=6\n",
    "AB_2=5\n",
    "AC_reel=48\n",
    "\n",
    "def distance_2(AD,CD,BD,dist,reel):\n",
    "    r_pixel=(AD-CD)*BD/((BD-CD)*AD)\n",
    "    CA=(r_pixel/(r_pixel-1))*dist\n",
    "    return \"CA calculé\",CA, \"CA réel\", reel\n",
    "\n",
    "print(distance_2(AD,CD,BD,AB,AC_reel))\n",
    "\n",
    "print(distance_2(AD,CD,BD,AB_2,AC_reel))\n",
    "\n",
    "#petite distance beaucoup trop d'incertitudes\n",
    "\n",
    "#test avec vrai point de fuite\n",
    "BD_2=sqrt(392**2+712**2)\n",
    "AD_2=sqrt(856**2+1864**2)\n",
    "CD_2=sqrt(80**2+192**2)\n",
    "print(distance_2(AD_2,CD_2,BD_2,AB,AC_reel))\n",
    "\n",
    "\n",
    "\n",
    "### distance connue : distance au passage piéton | distance recherchée : distance au fond de la rue\n",
    "\n",
    "AB_3=50\n",
    "CA_reel=150\n",
    "DB_3=sqrt(112**2+256**2)\n",
    "DC_3=sqrt(40**2+112**2)\n",
    "DA_3=sqrt(920**2+1928**2)\n",
    "\n",
    "print(distance_2(DA_3,DC_3,DB_3,AB_3,CA_reel))"
   ]
  },
  {
   "cell_type": "code",
   "execution_count": 26,
   "id": "53f6aaca",
   "metadata": {},
   "outputs": [
    {
     "name": "stdout",
     "output_type": "stream",
     "text": [
      "('CA calculé', 206.2935153061638, 'CA réel', 200)\n",
      "('CA calculé', 148.53133102043793, 'CA réel', 200)\n",
      "('CA calculé', 119.54136257718048, 'CA réel', 100)\n"
     ]
    }
   ],
   "source": [
    "#### à travers ARTEM # exemple encore pas mal linéaire\n",
    "# Image Cross_Ratio_1\n",
    "\n",
    "#distance cherchée 4 fois supérieure à celle qu'on connait\n",
    "DA=sqrt(728**2+2840**2)\n",
    "DB=sqrt(336**2+1304**2)\n",
    "DC=sqrt(72**2+264**2)\n",
    "\n",
    "CA_reel=200\n",
    "AB=25\n",
    "AB_2=18\n",
    "print(distance_2(DA,DC,DB,AB,CA_reel))\n",
    "print(distance_2(DA,DC,DB,AB_2,CA_reel))\n",
    "\n",
    "#sur les distances connues, il faut que ce soit une grande sinon l'incertitude est trop grande\n",
    "\n",
    "\n",
    "#### derrière ARTEM #distance à mesurer inférieure à celle connue\n",
    "\n",
    "#données enlevées avec point de fuite mal mis\n",
    "\n",
    "DA=sqrt(1792**2+2240**2)\n",
    "DB=sqrt(880**2+744**2)\n",
    "DC=sqrt(592**2+488**2)\n",
    "AB=65\n",
    "CA_reel=100\n",
    "print(distance_2(DA,DC,DB,AB,CA_reel))"
   ]
  },
  {
   "cell_type": "code",
   "execution_count": 32,
   "id": "c619d3b7",
   "metadata": {},
   "outputs": [
    {
     "name": "stdout",
     "output_type": "stream",
     "text": [
      "('CA calculé', 24.85501113811579, 'CA réel', 4)\n",
      "('CA calculé', 12.12398060107956, 'CA réel', 4)\n",
      "('CA calculé', 7.90694387026928, 'CA réel', 4)\n"
     ]
    }
   ],
   "source": [
    "### essai 2 feus de nouvelle calédonie\n",
    "# Images dans les dossiers de simulation de feu de Jean-Simon et Marc\n",
    "\n",
    "#problème de précision sur grande distance, nécessite d'être hyper précis, + d'avoir une distance connue comparable\n",
    "# + avoir un paysage ouvert avec lignes de fuite, peu de relief\n",
    "\n",
    "DA=sqrt(606**2+198**2)\n",
    "DB=sqrt(84**2+276**2)\n",
    "DC=sqrt(42**2+144*2)\n",
    "AB=2.3\n",
    "AC_reel=4\n",
    "print(distance_2(DA,DC,DB,AB,AC_reel))\n",
    "\n",
    "#faire l'approximation comme si le paysage se prolongeait jusqu'en bas\n",
    "DA=sqrt(798**2+1170**2)\n",
    "DB=sqrt(114**2+276**2)\n",
    "DC=sqrt(66**2+156*2)\n",
    "AB=2.3\n",
    "AC_reel=4\n",
    "print(distance_2(DA,DC,DB,AB,AC_reel))\n",
    "\n",
    "## --> pb de l'altitude. On doit avoir cette donnée + l'angle pour avoir la vraie distance à enlever pour avoir la raie\n",
    "#Hp avec 1.5\n",
    "\n",
    "DA=sqrt(798**2+1170**2)\n",
    "DB=sqrt(114**2+276**2)\n",
    "DC=sqrt(66**2+156*2)\n",
    "AB=1.5\n",
    "AC_reel=4\n",
    "print(distance_2(DA,DC,DB,AB,AC_reel))\n",
    "#--> pas dingue + dû à la lens distorsion, ça déforme les lignes, sur photo normale on serait à 1km peut etre\n",
    "\n"
   ]
  }
 ],
 "metadata": {
  "kernelspec": {
   "display_name": "Python 3 (ipykernel)",
   "language": "python",
   "name": "python3"
  },
  "language_info": {
   "codemirror_mode": {
    "name": "ipython",
    "version": 3
   },
   "file_extension": ".py",
   "mimetype": "text/x-python",
   "name": "python",
   "nbconvert_exporter": "python",
   "pygments_lexer": "ipython3",
   "version": "3.9.7"
  }
 },
 "nbformat": 4,
 "nbformat_minor": 5
}
