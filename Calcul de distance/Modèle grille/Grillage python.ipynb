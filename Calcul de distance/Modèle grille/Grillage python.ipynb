{
 "cells": [
  {
   "cell_type": "code",
   "execution_count": null,
   "id": "5bd0e0c2",
   "metadata": {},
   "outputs": [],
   "source": [
    "from tkinter import *\n",
    "from PIL import Image\n",
    "\n",
    "def fenetre(x_image,y_image):\n",
    "    fen = Tk()\n",
    "    can = Canvas(fen, width =x_image , height =y_image, bg ='red')\n",
    "    can.pack(side =TOP, padx =5, pady =5)\n",
    "    can.delete(ALL)\n",
    "    \n",
    "    \n",
    "    imgpil = Image.open(\"img_test_p.png\")\n",
    "    dim=imgpil.size\n",
    "    img = PhotoImage(file='img_test_p.png')\n",
    "    item = can.create_image(dim[0], dim[1], image = img)\n",
    "     \n",
    "    #Rajouter cette ligne\n",
    "    can.image = img\n",
    "    \n",
    "    fen.mainloop()\n",
    "    \n",
    "fenetre(3500,4200)\n"
   ]
  },
  {
   "cell_type": "markdown",
   "id": "face764b",
   "metadata": {},
   "source": [
    "# Construction de la grille (traduction depuis MATLAB)\n"
   ]
  },
  {
   "cell_type": "code",
   "execution_count": 1,
   "id": "b0f7c7cf",
   "metadata": {},
   "outputs": [],
   "source": [
    "from math import*\n",
    "\n",
    "#toutes les données en centimètres (m)\n",
    "altitude=1066.87\n",
    "d1=7729.12\n",
    "d2=2362.96\n",
    "a1=atan(altitude/d1)\n",
    "a2=atan(altitude/d2)\n",
    "\n",
    "#longueurs de référence pour le calcul de ce que vaut 5 m en horizontal\n",
    "L2_pix=216 #pixels\n",
    "L2_reel=179.06 #centimètres\n",
    "L1_pix=80 #pixels\n",
    "L1_reel=174.67 #centimètres\n",
    "\n",
    "#pour 5m (500 cm), on fait les transformations (pour l'équivalent en pixels):\n",
    "L2_5_pix=L2_pix*5/L2_reel\n",
    "L1_5_pix=L1_pix*5/L1_reel\n",
    "\n",
    "#plage de pixels sur laquelle on fait le modèle\n",
    "h_p=600\n",
    "fact=int(abs((d1-d2)/500)) #pour savoir combien de points en vertical on va faire (avant de prolonger la grille)"
   ]
  },
  {
   "cell_type": "code",
   "execution_count": 2,
   "id": "2c949530",
   "metadata": {},
   "outputs": [
    {
     "name": "stdout",
     "output_type": "stream",
     "text": [
      "[1. 1. 1. 1. 1. 1. 1. 1. 1. 1. 1.]\n",
      "[205.74959402 193.49407165 181.10025177 168.57699273 155.93324537\n",
      " 143.17804665 130.32051319 117.36983475 104.33526767  91.22612825\n",
      "  78.05178608]\n",
      "1569.335732139332\n",
      "[78.66370075 73.97807914 69.23958261 64.45159794 59.61754729 54.74088573\n",
      " 49.82509881 44.8737     39.89022828 34.87824551 29.84133394]\n",
      "599.9999999999999\n"
     ]
    }
   ],
   "source": [
    "import numpy as np\n",
    "\n",
    "#élaboration de la grille\n",
    "def angle_x(x):\n",
    "    return float(a2+x*(a1-a2)/(d1-d2))\n",
    "def l_a_x(a):\n",
    "    return sin(a)*500\n",
    "\n",
    "#tous les points tous les 5 m compris sur la ligne travaillée\n",
    "Y_0=np.linspace(1., 1., fact+1) \n",
    "print(Y_0)\n",
    "for i in range(0,fact+1):\n",
    "    Y_0[i]=500*i #depuis x=0 jusqu'à x_max = d1-d2\n",
    "    \n",
    "#on calcule les distances donc les écarts successifs\n",
    "Y=np.linspace(1., 1., fact+1) \n",
    "somme=0\n",
    "for i in range(0,fact+1):\n",
    "    Y[i]=l_a_x(angle_x(Y_0[i]))\n",
    "    somme=somme+Y[i]\n",
    "print(Y)\n",
    "print(somme)\n",
    "#on scale les données\n",
    "s=h_p/somme\n",
    "for i in range (0,fact+1):\n",
    "    Y[i]=Y[i]*s\n",
    "\n",
    "print(Y)\n",
    "somme=0\n",
    "for i in range(0,fact+1):\n",
    "    somme=somme+Y[i]\n",
    "    \n",
    "print(somme)"
   ]
  },
  {
   "cell_type": "markdown",
   "id": "ccc0ce73",
   "metadata": {},
   "source": [
    "# Tracé de la grille\n"
   ]
  },
  {
   "cell_type": "code",
   "execution_count": 3,
   "id": "9354f76a",
   "metadata": {},
   "outputs": [
    {
     "name": "stdout",
     "output_type": "stream",
     "text": [
      "[ 78.66370075 152.64177989 221.8813625  286.33296044 345.95050773\n",
      " 400.69139346 450.51649227 495.39019227 535.28042055 570.15866606\n",
      " 600.        ]\n",
      "[-216.  -202.4 -188.8 -175.2 -161.6 -148.  -134.4 -120.8 -107.2  -93.6\n",
      "  -80. ]\n"
     ]
    }
   ],
   "source": [
    "X1=np.linspace(1., 1., fact+1)\n",
    "X2=np.linspace(1., 1., fact+1)\n",
    "X3=np.linspace(1., 1., fact+1)\n",
    "X4=np.linspace(1., 1., fact+1)\n",
    "\n",
    "for i in range(1,fact+1):\n",
    "    Y[i]=Y[i]+Y[i-1]\n",
    "print(Y)\n",
    "\n",
    "for i in range(0,fact+1):\n",
    "    X1[i]=-L2_pix+i*(L2_pix-L1_pix)/fact #on construit les points d'ordonnée selon la règle de proportionnalité \n",
    "for i in range(0,fact+1):\n",
    "    X2[i]=2*X1[i]\n",
    "    X3[i]=3*X1[i]\n",
    "    X4[i]=4*X1[i]\n",
    "    \n",
    "X0=np.linspace(0., 0., fact+1)\n",
    "print(X1)"
   ]
  },
  {
   "cell_type": "code",
   "execution_count": 10,
   "id": "54443aa3",
   "metadata": {},
   "outputs": [
    {
     "data": {
      "image/png": "[encoded data removed]",
      "text/plain": [
       "<Figure size 432x288 with 1 Axes>"
      ]
     },
     "metadata": {
      "needs_background": "light"
     },
     "output_type": "display_data"
    },
    {
     "name": "stdout",
     "output_type": "stream",
     "text": [
      "[-216.  -202.4 -188.8 -175.2 -161.6 -148.  -134.4 -120.8 -107.2  -93.6\n",
      "  -80. ]\n"
     ]
    }
   ],
   "source": [
    "import matplotlib.pyplot as plt\n",
    "\n",
    "\n",
    "plt.plot(X0, Y, '.')\n",
    "plt.plot(X1, Y, '.')\n",
    "plt.plot(X2, Y, '.')\n",
    "plt.plot(X3, Y, '.')\n",
    "plt.plot(X4, Y, '.')\n",
    "plt.show()\n",
    "print(X1)"
   ]
  },
  {
   "cell_type": "code",
   "execution_count": null,
   "id": "f4ccb4b3",
   "metadata": {},
   "outputs": [],
   "source": [
    "# problème de la linéarité pq ???"
   ]
  },
  {
   "cell_type": "markdown",
   "id": "fb5245a1",
   "metadata": {},
   "source": [
    "# Interface graphique"
   ]
  },
  {
   "cell_type": "code",
   "execution_count": 14,
   "id": "14bea62c",
   "metadata": {},
   "outputs": [
    {
     "ename": "TclError",
     "evalue": "image \"pyimage2\" doesn't exist",
     "output_type": "error",
     "traceback": [
      "\u001b[1;31m---------------------------------------------------------------------------\u001b[0m",
      "\u001b[1;31mTclError\u001b[0m                                  Traceback (most recent call last)",
      "\u001b[1;32m<ipython-input-14-87bcdcb8cfec>\u001b[0m in \u001b[0;36m<module>\u001b[1;34m\u001b[0m\n\u001b[0;32m      7\u001b[0m \u001b[1;33m\u001b[0m\u001b[0m\n\u001b[0;32m      8\u001b[0m \u001b[0mcanvas\u001b[0m \u001b[1;33m=\u001b[0m \u001b[0mTk\u001b[0m\u001b[1;33m.\u001b[0m\u001b[0mCanvas\u001b[0m\u001b[1;33m(\u001b[0m\u001b[0mroot\u001b[0m\u001b[1;33m,\u001b[0m \u001b[0mwidth\u001b[0m \u001b[1;33m=\u001b[0m \u001b[0mimage\u001b[0m\u001b[1;33m.\u001b[0m\u001b[0msize\u001b[0m\u001b[1;33m[\u001b[0m\u001b[1;36m0\u001b[0m\u001b[1;33m]\u001b[0m\u001b[1;33m,\u001b[0m \u001b[0mheight\u001b[0m \u001b[1;33m=\u001b[0m \u001b[0mimage\u001b[0m\u001b[1;33m.\u001b[0m\u001b[0msize\u001b[0m\u001b[1;33m[\u001b[0m\u001b[1;36m1\u001b[0m\u001b[1;33m]\u001b[0m\u001b[1;33m)\u001b[0m\u001b[1;33m\u001b[0m\u001b[1;33m\u001b[0m\u001b[0m\n\u001b[1;32m----> 9\u001b[1;33m \u001b[0mcanvas\u001b[0m\u001b[1;33m.\u001b[0m\u001b[0mcreate_image\u001b[0m\u001b[1;33m(\u001b[0m\u001b[1;36m0\u001b[0m\u001b[1;33m,\u001b[0m\u001b[1;36m0\u001b[0m\u001b[1;33m,\u001b[0m \u001b[0manchor\u001b[0m \u001b[1;33m=\u001b[0m \u001b[0mTk\u001b[0m\u001b[1;33m.\u001b[0m\u001b[0mNW\u001b[0m\u001b[1;33m,\u001b[0m \u001b[0mimage\u001b[0m\u001b[1;33m=\u001b[0m\u001b[0mphoto\u001b[0m\u001b[1;33m)\u001b[0m\u001b[1;33m\u001b[0m\u001b[1;33m\u001b[0m\u001b[0m\n\u001b[0m\u001b[0;32m     10\u001b[0m \u001b[0mcanvas\u001b[0m\u001b[1;33m.\u001b[0m\u001b[0mpack\u001b[0m\u001b[1;33m(\u001b[0m\u001b[1;33m)\u001b[0m\u001b[1;33m\u001b[0m\u001b[1;33m\u001b[0m\u001b[0m\n\u001b[0;32m     11\u001b[0m \u001b[0mroot\u001b[0m\u001b[1;33m.\u001b[0m\u001b[0mmainloop\u001b[0m\u001b[1;33m(\u001b[0m\u001b[1;33m)\u001b[0m\u001b[1;33m\u001b[0m\u001b[1;33m\u001b[0m\u001b[0m\n",
      "\u001b[1;32m~\\anaconda3\\lib\\tkinter\\__init__.py\u001b[0m in \u001b[0;36mcreate_image\u001b[1;34m(self, *args, **kw)\u001b[0m\n\u001b[0;32m   2788\u001b[0m     \u001b[1;32mdef\u001b[0m \u001b[0mcreate_image\u001b[0m\u001b[1;33m(\u001b[0m\u001b[0mself\u001b[0m\u001b[1;33m,\u001b[0m \u001b[1;33m*\u001b[0m\u001b[0margs\u001b[0m\u001b[1;33m,\u001b[0m \u001b[1;33m**\u001b[0m\u001b[0mkw\u001b[0m\u001b[1;33m)\u001b[0m\u001b[1;33m:\u001b[0m\u001b[1;33m\u001b[0m\u001b[1;33m\u001b[0m\u001b[0m\n\u001b[0;32m   2789\u001b[0m         \u001b[1;34m\"\"\"Create image item with coordinates x1,y1.\"\"\"\u001b[0m\u001b[1;33m\u001b[0m\u001b[1;33m\u001b[0m\u001b[0m\n\u001b[1;32m-> 2790\u001b[1;33m         \u001b[1;32mreturn\u001b[0m \u001b[0mself\u001b[0m\u001b[1;33m.\u001b[0m\u001b[0m_create\u001b[0m\u001b[1;33m(\u001b[0m\u001b[1;34m'image'\u001b[0m\u001b[1;33m,\u001b[0m \u001b[0margs\u001b[0m\u001b[1;33m,\u001b[0m \u001b[0mkw\u001b[0m\u001b[1;33m)\u001b[0m\u001b[1;33m\u001b[0m\u001b[1;33m\u001b[0m\u001b[0m\n\u001b[0m\u001b[0;32m   2791\u001b[0m \u001b[1;33m\u001b[0m\u001b[0m\n\u001b[0;32m   2792\u001b[0m     \u001b[1;32mdef\u001b[0m \u001b[0mcreate_line\u001b[0m\u001b[1;33m(\u001b[0m\u001b[0mself\u001b[0m\u001b[1;33m,\u001b[0m \u001b[1;33m*\u001b[0m\u001b[0margs\u001b[0m\u001b[1;33m,\u001b[0m \u001b[1;33m**\u001b[0m\u001b[0mkw\u001b[0m\u001b[1;33m)\u001b[0m\u001b[1;33m:\u001b[0m\u001b[1;33m\u001b[0m\u001b[1;33m\u001b[0m\u001b[0m\n",
      "\u001b[1;32m~\\anaconda3\\lib\\tkinter\\__init__.py\u001b[0m in \u001b[0;36m_create\u001b[1;34m(self, itemType, args, kw)\u001b[0m\n\u001b[0;32m   2774\u001b[0m         \u001b[1;32melse\u001b[0m\u001b[1;33m:\u001b[0m\u001b[1;33m\u001b[0m\u001b[1;33m\u001b[0m\u001b[0m\n\u001b[0;32m   2775\u001b[0m             \u001b[0mcnf\u001b[0m \u001b[1;33m=\u001b[0m \u001b[1;33m{\u001b[0m\u001b[1;33m}\u001b[0m\u001b[1;33m\u001b[0m\u001b[1;33m\u001b[0m\u001b[0m\n\u001b[1;32m-> 2776\u001b[1;33m         return self.tk.getint(self.tk.call(\n\u001b[0m\u001b[0;32m   2777\u001b[0m             \u001b[0mself\u001b[0m\u001b[1;33m.\u001b[0m\u001b[0m_w\u001b[0m\u001b[1;33m,\u001b[0m \u001b[1;34m'create'\u001b[0m\u001b[1;33m,\u001b[0m \u001b[0mitemType\u001b[0m\u001b[1;33m,\u001b[0m\u001b[1;33m\u001b[0m\u001b[1;33m\u001b[0m\u001b[0m\n\u001b[0;32m   2778\u001b[0m             *(args + self._options(cnf, kw))))\n",
      "\u001b[1;31mTclError\u001b[0m: image \"pyimage2\" doesn't exist"
     ]
    }
   ],
   "source": [
    "from PIL import Image, ImageTk \n",
    "import  tkinter as Tk \n",
    "root = Tk.Tk() \n",
    "\n",
    "image = Image.open(\"img_test_p.png\") \n",
    "photo = ImageTk.PhotoImage(image) \n",
    " \n",
    "canvas = Tk.Canvas(root, width = image.size[0], height = image.size[1]) \n",
    "canvas.create_image(0,0, anchor = Tk.NW, image=photo)\n",
    "canvas.pack() \n",
    "root.mainloop()"
   ]
  }
 ],
 "metadata": {
  "kernelspec": {
   "display_name": "Python 3 (ipykernel)",
   "language": "python",
   "name": "python3"
  },
  "language_info": {
   "codemirror_mode": {
    "name": "ipython",
    "version": 3
   },
   "file_extension": ".py",
   "mimetype": "text/x-python",
   "name": "python",
   "nbconvert_exporter": "python",
   "pygments_lexer": "ipython3",
   "version": "3.9.7"
  }
 },
 "nbformat": 4,
 "nbformat_minor": 5
}
